pip install python-docx


from docx import Document

def remove_images_from_element(element):
    """
    遍历一个文档元素（如整个文档、页眉、页脚或单元格），删除其中所有图片。
    """
    # 遍历段落
    for para in element.paragraphs:
        for run in para.runs:
            # 查找 run 中的 drawing 元素（图片）
            drawings = run._element.xpath('.//w:drawing')
            for drawing in drawings:
                drawing.getparent().remove(drawing)
    # 处理可能存在的表格
    for table in element.tables:
        for row in table.rows:
            for cell in row.cells:
                remove_images_from_element(cell)

def remove_images_from_docx(input_path, output_path):
    """
    从 Word 文档中去除所有图片，只保留文本，保存为新的文件。
    """
    doc = Document(input_path)
    
    # 处理正文内容
    remove_images_from_element(doc)
    
    # 处理页眉和页脚中的内容
    for section in doc.sections:
        remove_images_from_element(section.header)
        remove_images_from_element(section.footer)
    
    doc.save(output_path)

if __name__ == '__main__':
    input_file = './论文去图.docx'   # 你的输入文件路径
    output_file = './论文去图完成.docx' # 输出文件路径
    remove_images_from_docx(input_file, output_file)
    print("处理完成，已保存到", output_file)




